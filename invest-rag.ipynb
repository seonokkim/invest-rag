{
 "cells": [
  {
   "cell_type": "code",
   "execution_count": 2,
   "id": "dfc9a1d8",
   "metadata": {},
   "outputs": [
    {
     "data": {
      "text/plain": [
       "[\"Translated in English: Ramananda Prasad, Ph.D. Language Editors: Needed Contact: rprasad@gita-society.com  \\n*****  \\n'Let noble thoughts come to us from everywhere' (The Vedas)\",\n",
       " \"The Bhagavad-Gita is a doctrine of universal truth and a book of moral and spiritual growth. Its message is sublime and non-sectarian. It deals with the most sacred metaphysical science. It imparts the knowledge of the Self and answers two universal questions: Who am I, and how can I lead a happy and peaceful life in this word full of dualities and dilemmas?  \\nIt's a timeless book of wisdom that inspired Thoreau, Emerson, Einstein, Oppenheimer, Gandhi and many others. The BhagavadGita teaches us how to equip ourselves for the battle of life. A repeated study with faith purifies our psyche and guides us to face the challenges of modern living leading to inner peace and happiness.  \\nGita teaches the spiritual science of Self-realization (SR) based on the essence of Upanishads and Vedanta. The prime message of the Gita is: The ultimate purpose of life is to realize one's essential nature and become one with the Supreme Self within all of us. It assures spiritual progress for all humans, and how to be one with the Supreme. Its teachings are profound, universal, uplifting, and sublime.  \\nThe  ignorance  of  metaphysical  or  Spiritual  knowledge-not knowing our real identity-is humanity's greatest predicament. It is said that there is no human mind that cannot be purified by a repeated study of the Gita. Gita explains the basic principles of spiritual science- using Sanskrit poetry- in a very clear and inspiring manner. Sacred relationship between the Creator and the creation is well established in the Gita. If one lives in the spirit of even a few verses of the Gita, one's life will be transformed into divinity.  \\nThe philosophy of duty, devotion and Self-knowledge is wonderfully synthesized and harmonized in the Gita-without creating any conflict among them-to give the reader eternal bliss, everlasting peace and perennial joy in life. It awakens Cosmic Consciousness and stimulates life with spirituality. Religion tends to create a wall of division and conflicts along religious lines. Whereas, spirituality unites people by breaking those walls. A spiritual person is a  \\nfriend  of  all  and  a  foe  of  none,  because  he  considers  all  creatures-living or non-living-as part and parcel of the Cosmic body of the Absolute, the Source.  \\nThe message of the Gita came to humanity due to Arjuna's unwillingness to do his duty as a warrior, because fighting involved destruction and killing. Nonviolence or Ahinsa is one of the most fundamental tenets of spiritual culture. All lives, human or non-human, are sacred. This immortal discourse between the Supreme Lord, Krishna, and His devotee-friend, Arjuna, occurs not in a temple, a secluded forest, or on a mountain top; but on a battlefield on the eve of a big war. Anyone can be helped by practice of only a few of its teachings. No change of one's faith or life-style is needed!  \\nA total of seven hundred (700) verses of the Gita, in 18 chapters,  are  recorded  in  world's  longest  epic,  Mahabharata,  having over 100,000 verses in Sanskrit poetry. In Gita Lord Krishna advises Arjuna to get up and fight. This may create a misunderstanding of the principles of non-violence if the background of the war of Mahabharata is not kept in mind. Therefore, a brief historical description is in order.  \\nIn  ancient  times  there  was  a  king  who  had  two  sons,  Dhritarashtra and Pandu. The former was born blind; therefore, Pandu inherited the kingdom. Pandu had five sons. They were called the Pandavas. Dhritarashtra had one hundred sons. They were called the Kauravas. Duryodhana was the eldest of the Kauravas.  \\nAfter the death of king Pandu, the eldest son of Pandu became the lawful King. Duryodhana was a very jealous person. He also wanted the kingdom. The kingdom was divided into two halves between the Pandavas and the Kauravas.  Duryodhana was not satisfied with his share of the kingdom. He wanted the entire kingdom for himself. He unsuccessfully planned several foul plays to kill the Pandavas and take away their kingdom also. He unlawfully took possession of the entire kingdom of the Pandavas and refused to give back even an acre of land without a war. All mediation by Lord Krishna and others failed. The big war of Mahabharata was thus inevitable.  The  Pandavas  were  unwilling  participants.  They  had only two choices: Fight for their right as a matter of duty or run away from war and accept defeat for the sake of peace and nonviolence.  Arjuna,  one  of  the  five  Pandava  brothers,  faced  this  dilemma in the battlefield: Whether to fight or run away from war for peace.  \\nArjuna's dilemma is, in reality, the Universal Dilemma. All human beings face dilemmas, big or small, in their everyday life while performing their duties. Arjuna's dilemma was a big one. He had to make  a  choice  between  fighting  the  war  and  killing  his  most revered guru who was on the other side, very dear friends, close relatives, and many innocent warriors; or running away from the  \\nbattlefield for the sake of preserving peace and nonviolence. The entire seven hundred verses of the Bhagavad-Gita are a discourse between Lord Krishna and the confused Arjuna on the battlefield near New Delhi, India, in 3,139 BCE. This discourse was narrated to the blind king, Dhritarashtra, by his charioteer, Sanjaya, as an eyewitness war report.  \\nThe word 'Bhagavad' means the Supreme Being, God or Bhagavan in Sanskrit. 'Gita' means song. Thus, Bhagavad-Gita means the Song of God or The Celestial Song, because it was sung by Bhagavan Lord Krishna, an incarnation of God Himself.\",\n",
       " 'The blind King inquired from his charioteer: O Sanjaya, tell me in detail, what did my sons and the P a ndavas do in the battlefield before the war started? (1.01)']"
      ]
     },
     "execution_count": 2,
     "metadata": {},
     "output_type": "execute_result"
    }
   ],
   "source": [
    "import pickle\n",
    "\n",
    "with open(\"cleaned_text.pkl\", \"rb\") as f:\n",
    "    cleaned_text = pickle.load(f)\n",
    "\n",
    "cleaned_text[:3]"
   ]
  },
  {
   "cell_type": "code",
   "execution_count": 3,
   "id": "74809a7a",
   "metadata": {},
   "outputs": [
    {
     "name": "stderr",
     "output_type": "stream",
     "text": [
      "/root/invest-rag/.venv/lib/python3.10/site-packages/tqdm/auto.py:21: TqdmWarning: IProgress not found. Please update jupyter and ipywidgets. See https://ipywidgets.readthedocs.io/en/stable/user_install.html\n",
      "  from .autonotebook import tqdm as notebook_tqdm\n",
      "Loading checkpoint shards: 100%|██████████| 2/2 [00:08<00:00,  4.47s/it]\n"
     ]
    }
   ],
   "source": [
    "from transformers import AutoModelForCausalLM, AutoTokenizer, BitsAndBytesConfig\n",
    "import torch\n",
    "from IPython.display import  clear_output\n",
    "import time\n",
    "import PyPDF2\n",
    "import numpy as np\n",
    "import matplotlib.pyplot as plt\n",
    "from tqdm import tqdm\n",
    "\n",
    "device = 'cuda' if torch.cuda.is_available() else 'cpu'\n",
    "\n",
    "DEFAULT_MODEL = \"meta-llama/Llama-3.2-3B-Instruct\"\n",
    "\n",
    "# Configure 4-bit quantization\n",
    "# bnb_config = BitsAndBytesConfig(\n",
    "#     load_in_8bit=True)\n",
    "bnb_config = BitsAndBytesConfig(\n",
    "    load_in_4bit=True,\n",
    "    bnb_4bit_quant_type=\"nf4\",  # Normalized float 4-bit (recommended)\n",
    "    bnb_4bit_compute_dtype=torch.float16,\n",
    "    bnb_4bit_use_double_quant=True  # Improves performance by applying second quantization\n",
    ")\n",
    "\n",
    "model = AutoModelForCausalLM.from_pretrained(\n",
    "    DEFAULT_MODEL,\n",
    "    #quantization_config=bnb_config,\n",
    "    # torch_dtype=torch.bfloat16,\n",
    "    device_map=device,\n",
    ")\n",
    "\n",
    "tokenizer = AutoTokenizer.from_pretrained(DEFAULT_MODEL, use_safetensors=True)\n",
    "tokenizer.pad_token_id = tokenizer.eos_token_id\n",
    "model.generation_config.pad_token_id = 128001"
   ]
  },
  {
   "cell_type": "code",
   "execution_count": 4,
   "id": "66c1de85",
   "metadata": {},
   "outputs": [
    {
     "name": "stdout",
     "output_type": "stream",
     "text": [
      "Thu May 15 11:22:50 2025       \n",
      "+-----------------------------------------------------------------------------------------+\n",
      "| NVIDIA-SMI 565.77                 Driver Version: 565.77         CUDA Version: 12.7     |\n",
      "|-----------------------------------------+------------------------+----------------------+\n",
      "| GPU  Name                 Persistence-M | Bus-Id          Disp.A | Volatile Uncorr. ECC |\n",
      "| Fan  Temp   Perf          Pwr:Usage/Cap |           Memory-Usage | GPU-Util  Compute M. |\n",
      "|                                         |                        |               MIG M. |\n",
      "|=========================================+========================+======================|\n",
      "|   0  NVIDIA GeForce RTX 3090        On  |   00000000:C1:00.0 Off |                  N/A |\n",
      "| 30%   37C    P0            112W /  350W |   14026MiB /  24576MiB |      0%      Default |\n",
      "|                                         |                        |                  N/A |\n",
      "+-----------------------------------------+------------------------+----------------------+\n",
      "                                                                                         \n",
      "+-----------------------------------------------------------------------------------------+\n",
      "| Processes:                                                                              |\n",
      "|  GPU   GI   CI        PID   Type   Process name                              GPU Memory |\n",
      "|        ID   ID                                                               Usage      |\n",
      "|=========================================================================================|\n",
      "+-----------------------------------------------------------------------------------------+\n"
     ]
    }
   ],
   "source": [
    "!nvidia-smi"
   ]
  },
  {
   "cell_type": "code",
   "execution_count": 5,
   "id": "6d578ecb",
   "metadata": {},
   "outputs": [
    {
     "data": {
      "text/plain": [
       "11.968425989151001"
      ]
     },
     "execution_count": 5,
     "metadata": {},
     "output_type": "execute_result"
    }
   ],
   "source": [
    "model.get_memory_footprint()/(1024*1024*1024)# Gbs"
   ]
  },
  {
   "cell_type": "code",
   "execution_count": 6,
   "id": "0dde25a4",
   "metadata": {},
   "outputs": [
    {
     "name": "stdout",
     "output_type": "stream",
     "text": [
      "Processing PDF with 15 pages...\n"
     ]
    }
   ],
   "source": [
    "pdf_path = \"stock-market.pdf\"\n",
    "pdf_reader = PyPDF2.PdfReader(pdf_path)\n",
    "# Get total number of pages\n",
    "num_pages = len(pdf_reader.pages)\n",
    "print(f\"Processing PDF with {num_pages} pages...\")\n",
    "\n",
    "full_text = []\n",
    "\n",
    "for page_num in range(4,num_pages-1):\n",
    "    page = pdf_reader.pages[page_num]\n",
    "    text = page.extract_text()\n",
    "    full_text.append(text)\n",
    "\n",
    "full_text = '\\n'.join(full_text)\n"
   ]
  },
  {
   "cell_type": "code",
   "execution_count": 7,
   "id": "378f2704",
   "metadata": {},
   "outputs": [
    {
     "name": "stdout",
     "output_type": "stream",
     "text": [
      "Short & Long Term Options \n",
      "for Investment \n",
      "•Short Term: \n",
      "1. Savings Bank Account 2. Money Market or Liquid Funds \n",
      "3. Fixed Deposit with Banks \n",
      "3. Fixed Deposit with Banks \n",
      "•Long Term:\n",
      "1. Post Office Savings 2. Public Provident Fund 3. Bonds 4. Mutual Funds \n",
      "Before investing in a Market \n",
      "•Before investing, it is always wise to learn the Basics \n",
      "of Stock Market . We have compiled articles and \n",
      "tutorials on the Share Market Basics .Also included \n",
      "here explanation of Stock Market Terms and jargon \n",
      "used by people involved in trading stocks and \n",
      " used by people involved in trading stocks and \n",
      "shares. Whether it is Bombay Stock Exchange (BSE), \n",
      "National Stock Exchange (NSE), London Stock Exchange (LSE) or New York Stock Exchange (NYSE) , \n",
      "trading terms \n",
      "or more or less similar \n",
      "Why Trade In Stock Market \n",
      "•1. You do not need a lot of money to start making mone y, unlike buying \n",
      "property and paying a monthly mortgage. \n",
      "•2. It requires very minimal tim e to trade - unlike building a conventional \n",
      "business \n",
      "•3. It’s ‘fast’ cash and allows for quick liquidation (You can convert i t to cash \n",
      "easily, unlike selling a property or a business). \n",
      "•4. It’s easy to learn how to profit from the stock market . \n",
      " •4. It’s easy to learn how to profit from the stock market . \n",
      "But You need to have your basics clear. Unless you do….you will be wasting \n",
      "your time and loosing money. You need to be crystal clear of each and every \n",
      "aspect of Investments , stock options, Stock Trading, Company, Shares , \n",
      "Dividend & Types of Shares, Debentures, Securities,  Mutual Funds , IPO , \n",
      "Futures & Options, What does the Share Market consis t of? Exchanges, \n",
      "Indices, SEBI , Analysis of Stocks – How to check on  what to buy?, Trading \n",
      "Terms (Limit Order, Stop Loss, Put, Call, Booking Profit & Loss, Short & Long), \n",
      "Trading Options – Brokerage Houses etc. \n",
      "Stock Market System \n",
      "•Primary market \n",
      "•stock market is a secondary market \n",
      "•trade stock for listed corporations \n",
      "•trade stock for listed corporations \n",
      "•Progressive development of stock market \n",
      "Primary Market \n",
      "•The primary market provides the channel for sale of  new \n",
      "securities. Primary market provides opportunity to issuers of \n",
      "securities; Government as well as corporate to rais e resources \n",
      "to meet their requirements of investment and/or dis charge \n",
      "some obligation. \n",
      "some obligation. \n",
      "•They may issue the securities at face value, or at a \n",
      "discount/premium and these securities may take a va riety of \n",
      "forms such as equity, debt etc. They may issue the securities \n",
      "in domestic market and/or international market \n",
      "Why Companies need to issue shares to Public \n",
      "•Most companies are usually started privately by thei r \n",
      "promoter(s). However, the promoters’ capital and th e \n",
      "borrowings from banks and financial institutions ma y not be \n",
      "sufficient for setting up or running the business o ver a long \n",
      "term. So companies invite the public to contribute towards \n",
      " term. So companies invite the public to contribute towards \n",
      "the equity and issue shares to individual investors . \n",
      "•The way to invite share capital from the public is through a \n",
      "‘Public Issue’. Simply stated, a public issue is an  offer to the \n",
      "public to subscribe to the share capital of a compa ny. Once \n",
      "this is done, the company allots shares to the appl icants as \n",
      "per the prescribed rules and regulations laid down by SEBI. \n",
      "Secondary Market \n",
      "•Secondary market refers to a market where securitie s are \n",
      "traded after being initially offered to the public in the primary \n",
      "market and/or listed on the Stock Exchange. Majority  of the \n",
      "trading is done in the secondary market. Secondary market \n",
      "comprises of equity markets and the debt markets \n",
      " comprises of equity markets and the debt markets \n",
      "•Difference between Primary and Secondary Market is \n",
      "/checkbldIn Primary Market securities are offered to public f or \n",
      "subscription for the purpose of raising capital or fund \n",
      "/checkbldSecondary Market is an equity trading venue in which  \n",
      "already existing/pre-issued securities are traded a mong \n",
      "investors .\n",
      "Equity Investment \n",
      "•When you buy a share of a company you become a shar eholder in \n",
      "that company. Shares are also known as Equities. Equitie s have the \n",
      "potential to increase in value over time. It also provides your \n",
      "portfolio with the growth necessary to reach your long term \n",
      "investment goals. Research studies have proved that th e equities \n",
      "have outperformed most other forms of investments in the long \n",
      "term .\n",
      " term .\n",
      "•Equities are considered the most challenging and the rewa rding, \n",
      "when compared to other investment options. \n",
      "•Research studies have proved that investments in some shares with \n",
      "a longer tenure of investment have yielded far superior returns \n",
      "than any other investment.\n",
      "•However, this does not mean all equity investments would guarantee similar high returns. Equities are high risk inves tments. \n",
      "One needs to study them carefully before investing \n",
      "Types of investors \n",
      "•Speculators \n",
      "•Hedgers \n",
      "•Arbitragers \n",
      "•Arbitragers \n",
      "Important Jargons \n",
      "o BSE Sensitive Index or SENSEX \n",
      "o Bull Market \n",
      "o Bear Market \n",
      "o Delivery \n",
      "o Intraday \n",
      "o Dematerialization \n",
      "o Long Buy \n",
      "o Short Selling \n",
      "Short Selling \n",
      "o Stop Loss \n",
      "o Portfolio \n",
      "o Tick Size \n",
      "o Averaging \n",
      "o Booking Profit or Loss \n",
      "o Crash - Curciuts \n",
      "o Right Issue \n",
      "o Stock bonus \n",
      "o Stock Split \n"
     ]
    }
   ],
   "source": [
    "print(full_text)"
   ]
  },
  {
   "cell_type": "code",
   "execution_count": 8,
   "id": "d8886c07",
   "metadata": {},
   "outputs": [],
   "source": [
    "tokenized_text = tokenizer(full_text).input_ids"
   ]
  },
  {
   "cell_type": "code",
   "execution_count": 9,
   "id": "73d1eb6d",
   "metadata": {},
   "outputs": [
    {
     "data": {
      "text/plain": [
       "1195"
      ]
     },
     "execution_count": 9,
     "metadata": {},
     "output_type": "execute_result"
    }
   ],
   "source": [
    "len(tokenized_text)"
   ]
  },
  {
   "cell_type": "code",
   "execution_count": 10,
   "id": "dc7d1a7a",
   "metadata": {},
   "outputs": [
    {
     "name": "stderr",
     "output_type": "stream",
     "text": [
      "100%|██████████| 15/15 [00:00<00:00, 12169.16it/s]\n"
     ]
    }
   ],
   "source": [
    "chunk_size = 100\n",
    "chunk_overlap = 20\n",
    "\n",
    "chunk_list = []\n",
    "\n",
    "for i in tqdm(range(0, len(tokenized_text), chunk_size - chunk_overlap)):\n",
    "    # print(i,i+chunk_size)\n",
    "    chunk = tokenized_text[i:i+chunk_size]\n",
    "    decoded_text = tokenizer.decode(chunk, skip_special_tokens=True)\n",
    "    chunk_list.append(decoded_text)\n",
    "    # break\n",
    "\n",
    "\n"
   ]
  },
  {
   "cell_type": "code",
   "execution_count": 11,
   "id": "73d4cd18",
   "metadata": {},
   "outputs": [
    {
     "name": "stdout",
     "output_type": "stream",
     "text": [
      "public to subscribe to the share capital of a compa ny. Once \n",
      "this is done, the company allots shares to the appl icants as \n",
      "per the prescribed rules and regulations laid down by SEBI. \n",
      "Secondary Market \n",
      "•Secondary market refers to a market where securitie s are \n",
      "traded after being initially offered to the public in the primary \n",
      "market and/or listed on the Stock Exchange. Majority  of the \n",
      "trading is done in the secondary market. Secondary market\n",
      "##################################################\n",
      " the Stock Exchange. Majority  of the \n",
      "trading is done in the secondary market. Secondary market \n",
      "comprises of equity markets and the debt markets \n",
      " comprises of equity markets and the debt markets \n",
      "•Difference between Primary and Secondary Market is \n",
      "/checkbldIn Primary Market securities are offered to public f or \n",
      "subscription for the purpose of raising capital or fund \n",
      "/checkbldSecondary Market is an equity trading venue in which  \n",
      "already existing/pre-issued securities are traded a mong \n",
      "investors.\n",
      "\n",
      "##################################################\n",
      " equity trading venue in which  \n",
      "already existing/pre-issued securities are traded a mong \n",
      "investors.\n",
      "Equity Investment \n",
      "•When you buy a share of a company you become a shar eholder in \n",
      "that company. Shares are also known as Equities. Equitie s have the \n",
      "potential to increase in value over time. It also provides your \n",
      "portfolio with the growth necessary to reach your long term \n",
      "investment goals. Research studies have proved that th e equities \n",
      "have outperformed\n"
     ]
    }
   ],
   "source": [
    "print(chunk_list[9])\n",
    "print('#'*50)\n",
    "print(chunk_list[10])\n",
    "print('#'*50)\n",
    "print(chunk_list[11])"
   ]
  },
  {
   "cell_type": "code",
   "execution_count": 12,
   "id": "d255e393",
   "metadata": {},
   "outputs": [],
   "source": [
    "def clean_text_with_llm(text, max_tokens=256):\n",
    "    \"\"\"\n",
    "    Cleans up noisy OCR or PDF-extracted text using an LLM.\n",
    "\n",
    "    Args:\n",
    "        text (str): The raw text to be cleaned.\n",
    "        max_tokens (int): Maximum number of tokens to generate.\n",
    "\n",
    "    Returns:\n",
    "        str: Cleaned and readable version of the input text.\n",
    "    \"\"\"\n",
    "    conversation = [\n",
    "        {\n",
    "            \"role\": \"system\",\n",
    "            \"content\": (\n",
    "                \"You are a helpful text editor that refines extracted text while preserving its original meaning. \"\n",
    "                \"Your job is to:\\n\"\n",
    "                \"1. Remove unnecessary line breaks and word splits.\\n\"\n",
    "                \"2. Remove footers, page numbers, and URLs.\\n\"\n",
    "                \"3. Eliminate duplicated lines or artifacts like '/checkbld'.\\n\"\n",
    "                \"4. Ensure that the cleaned output reads naturally as a continuous paragraph.\\n\"\n",
    "                \"Do not add any new content. Just return the cleaned text directly.\"\n",
    "            ),\n",
    "        },\n",
    "        {\"role\": \"user\", \"content\": text},\n",
    "    ]\n",
    "\n",
    "    prompt = tokenizer.apply_chat_template(conversation, tokenize=False)\n",
    "    inputs = tokenizer(prompt, return_tensors=\"pt\").to(device)\n",
    "\n",
    "    with torch.no_grad():\n",
    "        output = model.generate(\n",
    "            **inputs,\n",
    "            do_sample=True,\n",
    "            max_new_tokens=max_tokens,\n",
    "            temperature=0.7\n",
    "        )\n",
    "\n",
    "    # Remove the prompt part from the output and decode\n",
    "    cleaned_text = tokenizer.decode(\n",
    "        output[0][inputs.input_ids.shape[-1]:],\n",
    "        skip_special_tokens=True\n",
    "    )\n",
    "\n",
    "    return cleaned_text.strip()"
   ]
  },
  {
   "cell_type": "code",
   "execution_count": 13,
   "id": "58c8d9cb",
   "metadata": {},
   "outputs": [
    {
     "name": "stdout",
     "output_type": "stream",
     "text": [
      " the Stock Exchange. Majority  of the \n",
      "trading is done in the secondary market. Secondary market \n",
      "comprises of equity markets and the debt markets \n",
      " comprises of equity markets and the debt markets \n",
      "•Difference between Primary and Secondary Market is \n",
      "/checkbldIn Primary Market securities are offered to public f or \n",
      "subscription for the purpose of raising capital or fund \n",
      "/checkbldSecondary Market is an equity trading venue in which  \n",
      "already existing/pre-issued securities are traded a mong \n",
      "investors.\n",
      " \n",
      "\n"
     ]
    },
    {
     "name": "stdout",
     "output_type": "stream",
     "text": [
      "assistant\n",
      "\n",
      "The Stock Exchange. Majority of the trading is done in the secondary market. Secondary market comprises of equity markets and the debt markets, which comprises of equity markets and the debt markets. The difference between Primary and Secondary Market is that in Primary Market securities are offered to public for subscription for the purpose of raising capital or fund. In Secondary Market is an equity trading venue in which already existing/pre-issued securities are traded among investors.\n"
     ]
    }
   ],
   "source": [
    "print(chunk_list[10],'\\n')\n",
    "print(clean_text_with_llm(chunk_list[10]).strip())"
   ]
  },
  {
   "cell_type": "code",
   "execution_count": 14,
   "id": "eb6e55e3",
   "metadata": {},
   "outputs": [
    {
     "name": "stderr",
     "output_type": "stream",
     "text": [
      "100%|██████████| 15/15 [00:29<00:00,  1.95s/it]\n"
     ]
    }
   ],
   "source": [
    "cleaned_text=[]\n",
    "for chunk in tqdm(chunk_list,leave=True):\n",
    "    cleaned_text.append(clean_text_with_llm(chunk).strip())"
   ]
  },
  {
   "cell_type": "code",
   "execution_count": 17,
   "id": "aa7f8934",
   "metadata": {},
   "outputs": [],
   "source": [
    "cleaned_text = [t.replace(\"assistant\\n\\n\", \"\").strip() for t in cleaned_text]"
   ]
  },
  {
   "cell_type": "code",
   "execution_count": 18,
   "id": "4ffa8ace",
   "metadata": {},
   "outputs": [],
   "source": [
    "# Open a file in write-binary mode and save the list\n",
    "with open(\"clean_text.pkl\", \"wb\") as f:\n",
    "    pickle.dump(cleaned_text, f)"
   ]
  },
  {
   "cell_type": "code",
   "execution_count": 19,
   "id": "098a62d2",
   "metadata": {},
   "outputs": [
    {
     "data": {
      "text/plain": [
       "['Short and Long-term options for investment. \\nFor short-term, consider savings bank accounts, money market or liquid funds, or fixed deposits with banks. \\nFor long-term, options include post office savings, public provident fund, bonds, and mutual funds. \\nBefore investing in a market, it is always wise to learn the basics of the stock market. We have compiled articles and tutorials.',\n",
       " 'Is always wise to learn the basics of the stock market. We have compiled articles and tutorials on the share market basics. Also included here is an explanation of stock market terms and jargon used by people involved in trading stocks and shares. Whether it is the Bombay Stock Exchange (BSE), the National Stock Exchange (NSE), the London Stock Exchange (LSE), or the New York Stock Exchange (NYSE), trading terms or more.',\n",
       " 'LSE) or New York Stock Exchange (NYSE), trading terms or more or less similar, why trade in the stock market. You do not need a lot of money to start making money, unlike buying property and paying a monthly mortgage. It requires very minimal time to trade - unlike building a conventional business. It’s fast cash and allows for quick liquidation, you can convert it to cash.']"
      ]
     },
     "execution_count": 19,
     "metadata": {},
     "output_type": "execute_result"
    }
   ],
   "source": [
    "import pickle\n",
    "\n",
    "with open(\"clean_text.pkl\", \"rb\") as f:\n",
    "    cleaned_text = pickle.load(f)\n",
    "\n",
    "cleaned_text[:3]"
   ]
  }
 ],
 "metadata": {
  "kernelspec": {
   "display_name": ".venv",
   "language": "python",
   "name": "python3"
  },
  "language_info": {
   "codemirror_mode": {
    "name": "ipython",
    "version": 3
   },
   "file_extension": ".py",
   "mimetype": "text/x-python",
   "name": "python",
   "nbconvert_exporter": "python",
   "pygments_lexer": "ipython3",
   "version": "3.10.12"
  }
 },
 "nbformat": 4,
 "nbformat_minor": 5
}
