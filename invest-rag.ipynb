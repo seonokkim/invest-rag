{
 "cells": [
  {
   "cell_type": "code",
   "execution_count": null,
   "id": "dfc9a1d8",
   "metadata": {},
   "outputs": [
    {
     "data": {
      "text/plain": [
       "[\"Translated in English: Ramananda Prasad, Ph.D. Language Editors: Needed Contact: rprasad@gita-society.com  \\n*****  \\n'Let noble thoughts come to us from everywhere' (The Vedas)\",\n",
       " \"The Bhagavad-Gita is a doctrine of universal truth and a book of moral and spiritual growth. Its message is sublime and non-sectarian. It deals with the most sacred metaphysical science. It imparts the knowledge of the Self and answers two universal questions: Who am I, and how can I lead a happy and peaceful life in this word full of dualities and dilemmas?  \\nIt's a timeless book of wisdom that inspired Thoreau, Emerson, Einstein, Oppenheimer, Gandhi and many others. The BhagavadGita teaches us how to equip ourselves for the battle of life. A repeated study with faith purifies our psyche and guides us to face the challenges of modern living leading to inner peace and happiness.  \\nGita teaches the spiritual science of Self-realization (SR) based on the essence of Upanishads and Vedanta. The prime message of the Gita is: The ultimate purpose of life is to realize one's essential nature and become one with the Supreme Self within all of us. It assures spiritual progress for all humans, and how to be one with the Supreme. Its teachings are profound, universal, uplifting, and sublime.  \\nThe  ignorance  of  metaphysical  or  Spiritual  knowledge-not knowing our real identity-is humanity's greatest predicament. It is said that there is no human mind that cannot be purified by a repeated study of the Gita. Gita explains the basic principles of spiritual science- using Sanskrit poetry- in a very clear and inspiring manner. Sacred relationship between the Creator and the creation is well established in the Gita. If one lives in the spirit of even a few verses of the Gita, one's life will be transformed into divinity.  \\nThe philosophy of duty, devotion and Self-knowledge is wonderfully synthesized and harmonized in the Gita-without creating any conflict among them-to give the reader eternal bliss, everlasting peace and perennial joy in life. It awakens Cosmic Consciousness and stimulates life with spirituality. Religion tends to create a wall of division and conflicts along religious lines. Whereas, spirituality unites people by breaking those walls. A spiritual person is a  \\nfriend  of  all  and  a  foe  of  none,  because  he  considers  all  creatures-living or non-living-as part and parcel of the Cosmic body of the Absolute, the Source.  \\nThe message of the Gita came to humanity due to Arjuna's unwillingness to do his duty as a warrior, because fighting involved destruction and killing. Nonviolence or Ahinsa is one of the most fundamental tenets of spiritual culture. All lives, human or non-human, are sacred. This immortal discourse between the Supreme Lord, Krishna, and His devotee-friend, Arjuna, occurs not in a temple, a secluded forest, or on a mountain top; but on a battlefield on the eve of a big war. Anyone can be helped by practice of only a few of its teachings. No change of one's faith or life-style is needed!  \\nA total of seven hundred (700) verses of the Gita, in 18 chapters,  are  recorded  in  world's  longest  epic,  Mahabharata,  having over 100,000 verses in Sanskrit poetry. In Gita Lord Krishna advises Arjuna to get up and fight. This may create a misunderstanding of the principles of non-violence if the background of the war of Mahabharata is not kept in mind. Therefore, a brief historical description is in order.  \\nIn  ancient  times  there  was  a  king  who  had  two  sons,  Dhritarashtra and Pandu. The former was born blind; therefore, Pandu inherited the kingdom. Pandu had five sons. They were called the Pandavas. Dhritarashtra had one hundred sons. They were called the Kauravas. Duryodhana was the eldest of the Kauravas.  \\nAfter the death of king Pandu, the eldest son of Pandu became the lawful King. Duryodhana was a very jealous person. He also wanted the kingdom. The kingdom was divided into two halves between the Pandavas and the Kauravas.  Duryodhana was not satisfied with his share of the kingdom. He wanted the entire kingdom for himself. He unsuccessfully planned several foul plays to kill the Pandavas and take away their kingdom also. He unlawfully took possession of the entire kingdom of the Pandavas and refused to give back even an acre of land without a war. All mediation by Lord Krishna and others failed. The big war of Mahabharata was thus inevitable.  The  Pandavas  were  unwilling  participants.  They  had only two choices: Fight for their right as a matter of duty or run away from war and accept defeat for the sake of peace and nonviolence.  Arjuna,  one  of  the  five  Pandava  brothers,  faced  this  dilemma in the battlefield: Whether to fight or run away from war for peace.  \\nArjuna's dilemma is, in reality, the Universal Dilemma. All human beings face dilemmas, big or small, in their everyday life while performing their duties. Arjuna's dilemma was a big one. He had to make  a  choice  between  fighting  the  war  and  killing  his  most revered guru who was on the other side, very dear friends, close relatives, and many innocent warriors; or running away from the  \\nbattlefield for the sake of preserving peace and nonviolence. The entire seven hundred verses of the Bhagavad-Gita are a discourse between Lord Krishna and the confused Arjuna on the battlefield near New Delhi, India, in 3,139 BCE. This discourse was narrated to the blind king, Dhritarashtra, by his charioteer, Sanjaya, as an eyewitness war report.  \\nThe word 'Bhagavad' means the Supreme Being, God or Bhagavan in Sanskrit. 'Gita' means song. Thus, Bhagavad-Gita means the Song of God or The Celestial Song, because it was sung by Bhagavan Lord Krishna, an incarnation of God Himself.\",\n",
       " 'The blind King inquired from his charioteer: O Sanjaya, tell me in detail, what did my sons and the P a ndavas do in the battlefield before the war started? (1.01)']"
      ]
     },
     "execution_count": 3,
     "metadata": {},
     "output_type": "execute_result"
    }
   ],
   "source": [
    "import pickle\n",
    "\n",
    "with open(\"cleaned_text.pkl\", \"rb\") as f:\n",
    "    cleaned_text = pickle.load(f)\n",
    "\n",
    "cleaned_text[:3]"
   ]
  },
  {
   "cell_type": "code",
   "execution_count": 2,
   "id": "74809a7a",
   "metadata": {},
   "outputs": [
    {
     "name": "stderr",
     "output_type": "stream",
     "text": [
      "Loading checkpoint shards:   0%|          | 0/2 [00:00<?, ?it/s]"
     ]
    },
    {
     "name": "stderr",
     "output_type": "stream",
     "text": [
      "Loading checkpoint shards: 100%|██████████| 2/2 [00:08<00:00,  4.27s/it]\n"
     ]
    }
   ],
   "source": [
    "from transformers import AutoModelForCausalLM, AutoTokenizer, BitsAndBytesConfig\n",
    "import torch\n",
    "from IPython.display import  clear_output\n",
    "import time\n",
    "import PyPDF2\n",
    "import numpy as np\n",
    "import matplotlib.pyplot as plt\n",
    "from tqdm import tqdm\n",
    "\n",
    "device = 'cuda' if torch.cuda.is_available() else 'cpu'\n",
    "\n",
    "DEFAULT_MODEL = \"meta-llama/Llama-3.2-3B-Instruct\"\n",
    "\n",
    "# Configure 4-bit quantization\n",
    "# bnb_config = BitsAndBytesConfig(\n",
    "#     load_in_8bit=True)\n",
    "bnb_config = BitsAndBytesConfig(\n",
    "    load_in_4bit=True,\n",
    "    bnb_4bit_quant_type=\"nf4\",  # Normalized float 4-bit (recommended)\n",
    "    bnb_4bit_compute_dtype=torch.float16,\n",
    "    bnb_4bit_use_double_quant=True  # Improves performance by applying second quantization\n",
    ")\n",
    "\n",
    "model = AutoModelForCausalLM.from_pretrained(\n",
    "    DEFAULT_MODEL,\n",
    "    #quantization_config=bnb_config,\n",
    "    # torch_dtype=torch.bfloat16,\n",
    "    device_map=device,\n",
    ")\n",
    "\n",
    "tokenizer = AutoTokenizer.from_pretrained(DEFAULT_MODEL, use_safetensors=True)\n",
    "tokenizer.pad_token_id = tokenizer.eos_token_id\n",
    "model.generation_config.pad_token_id = 128001"
   ]
  },
  {
   "cell_type": "code",
   "execution_count": null,
   "id": "66c1de85",
   "metadata": {},
   "outputs": [
    {
     "name": "stdout",
     "output_type": "stream",
     "text": [
      "Thu May 15 11:00:21 2025       \n",
      "+-----------------------------------------------------------------------------------------+\n",
      "| NVIDIA-SMI 565.77                 Driver Version: 565.77         CUDA Version: 12.7     |\n",
      "|-----------------------------------------+------------------------+----------------------+\n",
      "| GPU  Name                 Persistence-M | Bus-Id          Disp.A | Volatile Uncorr. ECC |\n",
      "| Fan  Temp   Perf          Pwr:Usage/Cap |           Memory-Usage | GPU-Util  Compute M. |\n",
      "|                                         |                        |               MIG M. |\n",
      "|=========================================+========================+======================|\n",
      "|   0  NVIDIA GeForce RTX 3090        On  |   00000000:C1:00.0 Off |                  N/A |\n",
      "| 30%   31C    P8             35W /  350W |   17508MiB /  24576MiB |      0%      Default |\n",
      "|                                         |                        |                  N/A |\n",
      "+-----------------------------------------+------------------------+----------------------+\n",
      "                                                                                         \n",
      "+-----------------------------------------------------------------------------------------+\n",
      "| Processes:                                                                              |\n",
      "|  GPU   GI   CI        PID   Type   Process name                              GPU Memory |\n",
      "|        ID   ID                                                               Usage      |\n",
      "|=========================================================================================|\n",
      "+-----------------------------------------------------------------------------------------+\n"
     ]
    }
   ],
   "source": [
    "!nvidia-smi"
   ]
  },
  {
   "cell_type": "code",
   "execution_count": 3,
   "id": "6d578ecb",
   "metadata": {},
   "outputs": [
    {
     "data": {
      "text/plain": [
       "11.968425989151001"
      ]
     },
     "execution_count": 3,
     "metadata": {},
     "output_type": "execute_result"
    }
   ],
   "source": [
    "model.get_memory_footprint()/(1024*1024*1024)# Gbs"
   ]
  },
  {
   "cell_type": "code",
   "execution_count": null,
   "id": "0dde25a4",
   "metadata": {},
   "outputs": [],
   "source": [
    "pdf_path = stock-market.pdf\n",
    "pdf_reader = PyPDF2.PdfReader(pdf_path)\n",
    "# Get total number of pages\n",
    "num_pages = len(pdf_reader.pages)\n",
    "print(f\"Processing PDF with {num_pages} pages...\")\n",
    "\n",
    "full_text = []\n",
    "\n",
    "for page_num in range(4,num_pages-1):\n",
    "    page = pdf_reader.pages[page_num]\n",
    "    text = page.extract_text()\n",
    "    full_text.append(text)\n",
    "\n",
    "full_text = '\\n'.join(full_text)\n"
   ]
  }
 ],
 "metadata": {
  "kernelspec": {
   "display_name": ".venv",
   "language": "python",
   "name": "python3"
  },
  "language_info": {
   "codemirror_mode": {
    "name": "ipython",
    "version": 3
   },
   "file_extension": ".py",
   "mimetype": "text/x-python",
   "name": "python",
   "nbconvert_exporter": "python",
   "pygments_lexer": "ipython3",
   "version": "3.10.12"
  }
 },
 "nbformat": 4,
 "nbformat_minor": 5
}
